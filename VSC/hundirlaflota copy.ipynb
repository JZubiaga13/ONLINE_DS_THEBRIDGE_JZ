{
 "cells": [
  {
   "cell_type": "code",
   "execution_count": 36,
   "metadata": {},
   "outputs": [
    {
     "name": "stdout",
     "output_type": "stream",
     "text": [
      "[['_' '_' '_' '_' '_' '_' '_' '_' '_' '_']\n",
      " ['_' '_' '_' '_' '_' '_' '_' '_' '_' '_']\n",
      " ['_' '_' '_' '_' '_' '_' '_' '_' '_' '_']\n",
      " ['_' '_' '_' '_' '_' '_' '_' '_' '_' '_']\n",
      " ['_' '_' '_' '_' '_' '_' '_' '_' '_' '_']\n",
      " ['_' '_' '_' '_' '_' '_' '_' '_' '_' '_']\n",
      " ['_' '_' '_' '_' '_' '_' '_' '_' '_' '_']\n",
      " ['_' '_' '_' '_' '_' '_' '_' '_' '_' '_']\n",
      " ['_' '_' '_' '_' '_' '_' '_' '_' '_' '_']\n",
      " ['_' '_' '_' '_' '_' '_' '_' '_' '_' '_']]\n"
     ]
    }
   ],
   "source": [
    "\n",
    "import numpy \n",
    "\n",
    "def creartablero(tamano=10):\n",
    "    return numpy.full((tamano,tamano),\"_\")\n",
    "\n",
    "tablero=creartablero()\n",
    "print(tablero)\n",
    "\n",
    "\n",
    "\n"
   ]
  },
  {
   "cell_type": "code",
   "execution_count": null,
   "metadata": {},
   "outputs": [
    {
     "name": "stdout",
     "output_type": "stream",
     "text": [
      "[['_' '0' '_' '_' '_' '_' '_' '_' '_' '_']\n",
      " ['_' '0' '_' '0' '0' '0' '_' '_' '_' '_']\n",
      " ['_' '_' '_' '_' '_' '_' '_' '_' '_' '_']\n",
      " ['_' '_' '0' '0' '0' '_' '_' '_' '_' '_']\n",
      " ['_' '_' '_' '_' '_' '_' '_' '_' '_' '_']\n",
      " ['0' '_' '_' '_' '_' '_' '_' '_' '_' '_']\n",
      " ['0' '_' '_' '_' '_' '_' '_' '_' '_' '_']\n",
      " ['0' '_' '_' '_' '_' '_' '_' '_' '_' '_']\n",
      " ['0' '_' '_' '_' '_' '_' '_' '_' '_' '_']\n",
      " ['_' '_' '_' '_' '0' '0' '0' '0' '0' '_']]\n"
     ]
    }
   ],
   "source": [
    "barco1=[(0,1),(1,1)]\n",
    "barco2=[(1,3),(1,4)] \n",
    "barco3=[(3,2),(3,3)]\n",
    "barco4=[(5,0),(6,0),(7,0),(8,0)]\n",
    "barco5=[(9,4),(9,5),(9,6),(9,7),(9,8)]\n",
    "\n",
    "tablero=creartablero()\n",
    "def colocarbarcos(tablero,barco):\n",
    "    \n",
    "    for coordenada in barco:\n",
    "        tablero[coordenada]=\"0\"\n",
    "    return tablero\n",
    "\n",
    "\n",
    "tablero1=colocarbarcos(tablero,barco1)\n",
    "tablero1=colocarbarcos(tablero,barco2)\n",
    "tablero1=colocarbarcos(tablero,barco3)\n",
    "tablero1=colocarbarcos(tablero,barco4)\n",
    "tablero1=colocarbarcos(tablero,barco5)\n",
    "print(tablero1)\n",
    "\n"
   ]
  },
  {
   "cell_type": "code",
   "execution_count": null,
   "metadata": {},
   "outputs": [],
   "source": [
    "\n"
   ]
  },
  {
   "cell_type": "markdown",
   "metadata": {},
   "source": [
    "1.funcion crear barco\n",
    "2.crear tupla de barcos por usuario\n",
    "    1- lista barcos =(eslora1, eslora2)\n",
    "    2- recorrer lista for\n",
    "    3- añadir una lista vacia\n",
    "    4- return lista con los barcos\n",
    "\n",
    "3.pc-lista-barcos aleatorio\n",
    "4.user.... \""
   ]
  },
  {
   "cell_type": "code",
   "execution_count": null,
   "metadata": {},
   "outputs": [],
   "source": []
  }
 ],
 "metadata": {
  "kernelspec": {
   "display_name": "Python 3",
   "language": "python",
   "name": "python3"
  },
  "language_info": {
   "codemirror_mode": {
    "name": "ipython",
    "version": 3
   },
   "file_extension": ".py",
   "mimetype": "text/x-python",
   "name": "python",
   "nbconvert_exporter": "python",
   "pygments_lexer": "ipython3",
   "version": "3.13.0"
  }
 },
 "nbformat": 4,
 "nbformat_minor": 2
}
