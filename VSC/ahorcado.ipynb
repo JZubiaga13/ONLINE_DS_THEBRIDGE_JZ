{
 "cells": [
  {
   "attachments": {},
   "cell_type": "markdown",
   "metadata": {},
   "source": [
    "## Juego del Ahorcado\n",
    "Desarrolla el juego del ahorcado en python. En cada turno irá mostrando por pantalla ```_ _ _ _ _``` las rayas bajas correspondientes al número de letras que tiene la palabra a adivinar. El usuario deberá insertar una letra y, si esa letra existe, se mostrará o mostrarán las letras acertadas ```S _ S _ _``` en sus posiciones correspondientes. \n",
    "\n",
    "Si falla, se mostrará el número de errores que lleva y, si lleva x errores, entonces se mostrará \"Fin del juego\".\n",
    "\n",
    "![imagen](./img/ahorcadopro.png)"
   ]
  },
  {
   "cell_type": "markdown",
   "metadata": {},
   "source": [
    "1. Inicializa el juego: declara una palabra a adivinar y muestra por pantalla la palabra oculta. (En clase)\n"
   ]
  },
  {
   "cell_type": "markdown",
   "metadata": {},
   "source": [
    "\n",
    "```python\n",
    "_ _ _ _ _ _ _ _\n",
    "```"
   ]
  },
  {
   "cell_type": "code",
   "execution_count": 19,
   "metadata": {},
   "outputs": [
    {
     "name": "stdout",
     "output_type": "stream",
     "text": [
      "['_', '_', '_', '_']\n",
      "Recuerda que has usado: []\n",
      "HAS ACERTADO\n",
      "Quedan letras por descubrir: ['H', '_', '_', '_']\n",
      "Recuerda que has usado: ['H']\n",
      "HAS ACERTADO\n",
      "Quedan letras por descubrir: ['H', 'O', '_', '_']\n",
      "Recuerda que has usado: ['H', 'O']\n",
      "HAS ACERTADO\n",
      "Quedan letras por descubrir: ['H', 'O', 'L', '_']\n",
      "Recuerda que has usado: ['H', 'O', 'L']\n",
      "HAS ACERTADO\n",
      "Quedan letras por descubrir: ['H', 'O', 'L', 'A']\n"
     ]
    }
   ],
   "source": [
    "palabra=input(\"Indique la palabra a adivinar\")\n",
    "p_oculta= ([\"_\"] * len(palabra))\n",
    "p_lista=list(palabra)\n",
    "letras_usadas=[]\n",
    "victoria = \"🥳\"\n",
    "muerte = \"😵\"\n",
    "vidas = 3\n",
    "print(p_oculta)\n",
    "\n",
    "while vidas>0 and \"_\" in p_oculta:\n",
    "    letra= input(\"Que letra usas\")\n",
    "    print(\"Recuerda que has usado:\", letras_usadas)\n",
    "    letras_usadas.append(letra)\n",
    "    if letra in p_lista: \n",
    "        print(\"HAS ACERTADO\")\n",
    "        for n,letras in enumerate(p_lista):\n",
    "            if letras==letra:\n",
    "                p_oculta[n] = letra\n",
    "        print(\"Quedan letras por descubrir:\",(p_oculta))\n",
    "    else:\n",
    "        vidas=vidas-1\n",
    "        print(\"Nooo, prueba otra letra \\n Te quedan\", vidas, \"vidas.\")\n",
    "            \n",
    "if vidas==0 or p_oculta==palabra:\n",
    "    if vidas==0:\n",
    "        print(\"GAME OVER\")\n",
    "    elif p_oculta==palabra:\n",
    "        print(\"CONSEGUIDO, LA PALABRA ERA \", palabra.upper())\n",
    "\n",
    "    "
   ]
  },
  {
   "cell_type": "markdown",
   "metadata": {},
   "source": [
    "2. Funcionamiento turnos: mediante un bucle genera el sistema de turnos donde el usuario introduce una letra y le va mostrando su progreso y sus vidas. (En clase)"
   ]
  },
  {
   "cell_type": "code",
   "execution_count": null,
   "metadata": {},
   "outputs": [],
   "source": []
  },
  {
   "cell_type": "markdown",
   "metadata": {},
   "source": [
    "3. Desarrolla la finalización de la partida, tanto si gana como si pierde."
   ]
  },
  {
   "cell_type": "code",
   "execution_count": null,
   "metadata": {},
   "outputs": [],
   "source": []
  },
  {
   "cell_type": "markdown",
   "metadata": {},
   "source": [
    "4. Encapsula el juego en una función llamada ```jugar_ahorcado()``` con la palabra a adivinar y el número de vidas para seleccionar la dificultad como argumentos de entrada."
   ]
  },
  {
   "cell_type": "code",
   "execution_count": null,
   "metadata": {},
   "outputs": [],
   "source": []
  },
  {
   "cell_type": "markdown",
   "metadata": {},
   "source": [
    "5. Termina el juego\n",
    "\n",
    "- **Encapsula la lógica del juego en una función** llamada `jugar_ahorcado` en un archivo `utils.py`.\n",
    "- **Crea un archivo `main.py`** desde donde se ejecutará el juego importando la función `jugar_ahorcado`.\n",
    "- **Prueba el juego desde la terminal** para asegurarte de que funciona correctamente.\n",
    "- **Sube tu proyecto a un repositorio en GitHub**.\n",
    "- **Presenta tu juego a tus compañeros desde la terminal**"
   ]
  }
 ],
 "metadata": {
  "kernelspec": {
   "display_name": "Python 3",
   "language": "python",
   "name": "python3"
  },
  "language_info": {
   "codemirror_mode": {
    "name": "ipython",
    "version": 3
   },
   "file_extension": ".py",
   "mimetype": "text/x-python",
   "name": "python",
   "nbconvert_exporter": "python",
   "pygments_lexer": "ipython3",
   "version": "3.13.0"
  },
  "orig_nbformat": 4
 },
 "nbformat": 4,
 "nbformat_minor": 2
}
